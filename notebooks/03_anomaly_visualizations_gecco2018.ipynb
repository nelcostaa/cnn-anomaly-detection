{
 "cells": [
  {
   "cell_type": "markdown",
   "id": "7d81de4d",
   "metadata": {},
   "source": [
    "# GECCO2018 Water Quality — Notebook 03: Anomaly Visualizations\n",
    "\n",
    "Este notebook foca em **visualizações de anomalias** detectadas no dataset GECCO2018.\n",
    "\n",
    "Objetivos:\n",
    "- Analisar características temporais das anomalias.\n",
    "- Criar visualizações em janela (zoom) para explorar anomalias em detalhe.\n",
    "- Fornecer função simples e bem comentada para análise de janelas temporais.\n",
    "- Comparar comportamento de múltiplos sensores durante eventos anômalos."
   ]
  },
  {
   "cell_type": "code",
   "execution_count": 1,
   "id": "ee1b8728",
   "metadata": {},
   "outputs": [
    {
     "name": "stdout",
     "output_type": "stream",
     "text": [
      "sys.path bootstrapped with: /home/nelso/Documents/IA - Detecção Falhas\n"
     ]
    }
   ],
   "source": [
    "# Ensure project root on sys.path for `import src.*`\n",
    "import sys\n",
    "from pathlib import Path\n",
    "PROJECT_ROOT = Path.cwd().parent\n",
    "if str(PROJECT_ROOT) not in sys.path:\n",
    "    sys.path.insert(0, str(PROJECT_ROOT))\n",
    "print(\"sys.path bootstrapped with:\", PROJECT_ROOT)"
   ]
  },
  {
   "cell_type": "code",
   "execution_count": 2,
   "id": "9e330927",
   "metadata": {},
   "outputs": [],
   "source": [
    "%load_ext autoreload\n",
    "%autoreload 2\n",
    "\n",
    "import pandas as pd\n",
    "import numpy as np\n",
    "import seaborn as sns\n",
    "import matplotlib.pyplot as plt\n",
    "from src.utils.paths import ensure_directories_exist, FIGURES_DIR\n",
    "from src.data.loaders import load_gecco2018_csv\n",
    "\n",
    "sns.set_theme(style=\"whitegrid\")\n",
    "plt.rcParams[\"figure.figsize\"] = (14, 5)"
   ]
  },
  {
   "cell_type": "code",
   "execution_count": 3,
   "id": "f4e081b8",
   "metadata": {},
   "outputs": [
    {
     "name": "stdout",
     "output_type": "stream",
     "text": [
      "FIGURES_DIR: /home/nelso/Documents/IA - Detecção Falhas/reports/figures\n"
     ]
    }
   ],
   "source": [
    "# Ensure data/ and reports/figures directories exist\n",
    "ensure_directories_exist()\n",
    "print(\"FIGURES_DIR:\", FIGURES_DIR)"
   ]
  },
  {
   "cell_type": "code",
   "execution_count": 4,
   "id": "62ae26bb",
   "metadata": {},
   "outputs": [
    {
     "name": "stdout",
     "output_type": "stream",
     "text": [
      "(139566, 12)\n"
     ]
    },
    {
     "data": {
      "text/html": [
       "<div>\n",
       "<style scoped>\n",
       "    .dataframe tbody tr th:only-of-type {\n",
       "        vertical-align: middle;\n",
       "    }\n",
       "\n",
       "    .dataframe tbody tr th {\n",
       "        vertical-align: top;\n",
       "    }\n",
       "\n",
       "    .dataframe thead th {\n",
       "        text-align: right;\n",
       "    }\n",
       "</style>\n",
       "<table border=\"1\" class=\"dataframe\">\n",
       "  <thead>\n",
       "    <tr style=\"text-align: right;\">\n",
       "      <th></th>\n",
       "      <th>Unnamed: 0</th>\n",
       "      <th>Time</th>\n",
       "      <th>Tp</th>\n",
       "      <th>Cl</th>\n",
       "      <th>pH</th>\n",
       "      <th>Redox</th>\n",
       "      <th>Leit</th>\n",
       "      <th>Trueb</th>\n",
       "      <th>Cl_2</th>\n",
       "      <th>Fm</th>\n",
       "      <th>Fm_2</th>\n",
       "      <th>EVENT</th>\n",
       "    </tr>\n",
       "  </thead>\n",
       "  <tbody>\n",
       "    <tr>\n",
       "      <th>0</th>\n",
       "      <td>1</td>\n",
       "      <td>2016-08-03 11:49:00</td>\n",
       "      <td>6.5</td>\n",
       "      <td>0.17</td>\n",
       "      <td>8.36</td>\n",
       "      <td>749.0</td>\n",
       "      <td>211.0</td>\n",
       "      <td>0.011</td>\n",
       "      <td>0.118</td>\n",
       "      <td>1677.0</td>\n",
       "      <td>695.0</td>\n",
       "      <td>False</td>\n",
       "    </tr>\n",
       "    <tr>\n",
       "      <th>1</th>\n",
       "      <td>2</td>\n",
       "      <td>2016-08-03 11:50:00</td>\n",
       "      <td>6.5</td>\n",
       "      <td>0.17</td>\n",
       "      <td>8.36</td>\n",
       "      <td>749.0</td>\n",
       "      <td>211.0</td>\n",
       "      <td>0.011</td>\n",
       "      <td>0.118</td>\n",
       "      <td>1561.0</td>\n",
       "      <td>696.0</td>\n",
       "      <td>False</td>\n",
       "    </tr>\n",
       "    <tr>\n",
       "      <th>2</th>\n",
       "      <td>3</td>\n",
       "      <td>2016-08-03 11:51:00</td>\n",
       "      <td>6.5</td>\n",
       "      <td>0.17</td>\n",
       "      <td>8.35</td>\n",
       "      <td>749.0</td>\n",
       "      <td>211.0</td>\n",
       "      <td>0.011</td>\n",
       "      <td>0.117</td>\n",
       "      <td>1581.0</td>\n",
       "      <td>696.0</td>\n",
       "      <td>False</td>\n",
       "    </tr>\n",
       "    <tr>\n",
       "      <th>3</th>\n",
       "      <td>4</td>\n",
       "      <td>2016-08-03 11:52:00</td>\n",
       "      <td>6.5</td>\n",
       "      <td>0.17</td>\n",
       "      <td>8.35</td>\n",
       "      <td>749.0</td>\n",
       "      <td>211.0</td>\n",
       "      <td>0.011</td>\n",
       "      <td>0.118</td>\n",
       "      <td>1579.0</td>\n",
       "      <td>693.0</td>\n",
       "      <td>False</td>\n",
       "    </tr>\n",
       "    <tr>\n",
       "      <th>4</th>\n",
       "      <td>5</td>\n",
       "      <td>2016-08-03 11:53:00</td>\n",
       "      <td>6.5</td>\n",
       "      <td>0.17</td>\n",
       "      <td>8.35</td>\n",
       "      <td>749.0</td>\n",
       "      <td>211.0</td>\n",
       "      <td>0.011</td>\n",
       "      <td>0.118</td>\n",
       "      <td>1567.0</td>\n",
       "      <td>689.0</td>\n",
       "      <td>False</td>\n",
       "    </tr>\n",
       "  </tbody>\n",
       "</table>\n",
       "</div>"
      ],
      "text/plain": [
       "   Unnamed: 0                 Time   Tp    Cl    pH  Redox   Leit  Trueb  \\\n",
       "0           1  2016-08-03 11:49:00  6.5  0.17  8.36  749.0  211.0  0.011   \n",
       "1           2  2016-08-03 11:50:00  6.5  0.17  8.36  749.0  211.0  0.011   \n",
       "2           3  2016-08-03 11:51:00  6.5  0.17  8.35  749.0  211.0  0.011   \n",
       "3           4  2016-08-03 11:52:00  6.5  0.17  8.35  749.0  211.0  0.011   \n",
       "4           5  2016-08-03 11:53:00  6.5  0.17  8.35  749.0  211.0  0.011   \n",
       "\n",
       "    Cl_2      Fm   Fm_2  EVENT  \n",
       "0  0.118  1677.0  695.0  False  \n",
       "1  0.118  1561.0  696.0  False  \n",
       "2  0.117  1581.0  696.0  False  \n",
       "3  0.118  1579.0  693.0  False  \n",
       "4  0.118  1567.0  689.0  False  "
      ]
     },
     "execution_count": 4,
     "metadata": {},
     "output_type": "execute_result"
    }
   ],
   "source": [
    "# Load dataset\n",
    "try:\n",
    "    df = load_gecco2018_csv()\n",
    "except FileNotFoundError as e:\n",
    "    print(e)\n",
    "    raise\n",
    "\n",
    "print(df.shape)\n",
    "df.head()"
   ]
  },
  {
   "cell_type": "code",
   "execution_count": 5,
   "id": "4b1d51e5",
   "metadata": {},
   "outputs": [
    {
     "name": "stdout",
     "output_type": "stream",
     "text": [
      "After cleaning: (138521, 10)\n",
      "EVENT true count: 1726\n",
      "Time range: 2016-08-03 11:49:00 -> 2016-11-08 08:54:00\n"
     ]
    }
   ],
   "source": [
    "# Basic cleaning: drop unnamed, parse time, coerce types, drop nulls\n",
    "# Drop unnamed index column if present\n",
    "if \"Unnamed: 0\" in df.columns:\n",
    "    df = df.drop(columns=[\"Unnamed: 0\"])\n",
    "\n",
    "# Parse Time\n",
    "df[\"Time\"] = pd.to_datetime(df[\"Time\"], errors=\"coerce\")\n",
    "\n",
    "# Coerce numeric columns\n",
    "numeric_cols = [\"Tp\", \"Cl\", \"pH\", \"Redox\", \"Leit\", \"Trueb\", \"Cl_2\", \"Fm\", \"Fm_2\"]\n",
    "for c in numeric_cols:\n",
    "    df[c] = pd.to_numeric(df[c], errors=\"coerce\")\n",
    "\n",
    "# Ensure EVENT is boolean\n",
    "if df[\"EVENT\"].dtype != bool:\n",
    "    df[\"EVENT\"] = df[\"EVENT\"].astype(str).str.lower().isin([\"true\", \"1\", \"t\", \"yes\"])\n",
    "\n",
    "# Drop rows with nulls in Time or numeric sensors\n",
    "df_clean = df.dropna(subset=[\"Time\"] + numeric_cols)\n",
    "\n",
    "# Sort by time and set index\n",
    "df_clean = df_clean.sort_values(\"Time\").reset_index(drop=True)\n",
    "df_ts = df_clean.set_index(\"Time\").sort_index()\n",
    "\n",
    "print(\"After cleaning:\", df_ts.shape)\n",
    "print(\"EVENT true count:\", int(df_ts[\"EVENT\"].sum()))\n",
    "print(\"Time range:\", df_ts.index.min(), \"->\", df_ts.index.max())"
   ]
  },
  {
   "cell_type": "markdown",
   "id": "125aac17",
   "metadata": {},
   "source": [
    "## Anomaly-Focused Visualizations\n",
    "\n",
    "As per the Novel Dynamic Ensemble paper (Ribeiro et al., 2020), we now add **zoomed visualizations** that focus on anomaly regions. This dual perspective (overview + close-up) helps understand anomaly patterns in detail.\n"
   ]
  },
  {
   "cell_type": "code",
   "execution_count": 6,
   "id": "83f815fd",
   "metadata": {},
   "outputs": [
    {
     "name": "stdout",
     "output_type": "stream",
     "text": [
      "Found 51 anomaly regions\n",
      "First anomaly window: 2016-08-14 16:54:00 to 2016-08-14 21:11:00\n"
     ]
    }
   ],
   "source": [
    "def get_anomaly_windows(df_ts, event_col='EVENT', margin_minutes=60):\n",
    "    \"\"\"\n",
    "    Extract time windows around anomalies with margin.\n",
    "    Returns list of tuples: (start_time, end_time, anomaly_start, anomaly_end)\n",
    "    \"\"\"\n",
    "    \n",
    "    # Find contiguous anomaly regions\n",
    "    events = df_ts[event_col].copy()\n",
    "    # Identify transitions\n",
    "    event_starts = events & ~events.shift(1, fill_value=False)\n",
    "    event_ends = events & ~events.shift(-1, fill_value=False)\n",
    "    \n",
    "    start_times = df_ts.index[event_starts].tolist()\n",
    "    end_times = df_ts.index[event_ends].tolist()\n",
    "    \n",
    "    if len(start_times) == 0:\n",
    "        return []\n",
    "    \n",
    "    windows = []\n",
    "    margin = pd.Timedelta(minutes=margin_minutes)\n",
    "    \n",
    "    for anom_start, anom_end in zip(start_times, end_times):\n",
    "        # Add margin around anomaly\n",
    "        win_start = max(df_ts.index.min(), anom_start - margin)\n",
    "        win_end = min(df_ts.index.max(), anom_end + margin)\n",
    "        windows.append((win_start, win_end, anom_start, anom_end))\n",
    "    \n",
    "    return windows\n",
    "\n",
    "anomaly_windows = get_anomaly_windows(df_ts, margin_minutes=120)\n",
    "print(f\"Found {len(anomaly_windows)} anomaly regions\")\n",
    "if len(anomaly_windows) > 0:\n",
    "    print(f\"First anomaly window: {anomaly_windows[0][0]} to {anomaly_windows[0][1]}\")\n"
   ]
  },
  {
   "cell_type": "markdown",
   "id": "a2e7fa2f",
   "metadata": {},
   "source": [
    "### Anomaly Statistics\n",
    "\n",
    "Let's analyze the temporal characteristics of anomalies in the dataset.\n"
   ]
  },
  {
   "cell_type": "code",
   "execution_count": 7,
   "id": "97e793e0",
   "metadata": {},
   "outputs": [
    {
     "name": "stdout",
     "output_type": "stream",
     "text": [
      "============================================================\n",
      "ANOMALY TEMPORAL CHARACTERISTICS\n",
      "============================================================\n",
      "Total anomaly regions: 51\n",
      "Mean duration: 32.8 minutes\n",
      "Median duration: 21.0 minutes\n",
      "Min duration: 9.0 minutes\n",
      "Max duration: 252.0 minutes\n",
      "Std duration: 44.5 minutes\n",
      "============================================================\n"
     ]
    },
    {
     "data": {
      "image/png": "[encoded data removed]",
      "text/plain": [
       "<Figure size 1000x400 with 2 Axes>"
      ]
     },
     "metadata": {},
     "output_type": "display_data"
    }
   ],
   "source": [
    "# Anomaly duration analysis\n",
    "if len(anomaly_windows) > 0:\n",
    "    durations = [(end - start).total_seconds() / 60 for _, _, start, end in anomaly_windows]\n",
    "    \n",
    "    print(\"=\" * 60)\n",
    "    print(\"ANOMALY TEMPORAL CHARACTERISTICS\")\n",
    "    print(\"=\" * 60)\n",
    "    print(f\"Total anomaly regions: {len(anomaly_windows)}\")\n",
    "    print(f\"Mean duration: {pd.Series(durations).mean():.1f} minutes\")\n",
    "    print(f\"Median duration: {pd.Series(durations).median():.1f} minutes\")\n",
    "    print(f\"Min duration: {pd.Series(durations).min():.1f} minutes\")\n",
    "    print(f\"Max duration: {pd.Series(durations).max():.1f} minutes\")\n",
    "    print(f\"Std duration: {pd.Series(durations).std():.1f} minutes\")\n",
    "    print(\"=\" * 60)\n",
    "    \n",
    "    # Duration distribution\n",
    "    plt.figure(figsize=(10, 4))\n",
    "    plt.subplot(1, 2, 1)\n",
    "    plt.hist(durations, bins=20, edgecolor='black', alpha=0.7)\n",
    "    plt.xlabel('Duration (minutes)')\n",
    "    plt.ylabel('Count')\n",
    "    plt.title('Anomaly Duration Distribution')\n",
    "    plt.grid(alpha=0.3)\n",
    "    \n",
    "    plt.subplot(1, 2, 2)\n",
    "    plt.boxplot(durations, vert=True)\n",
    "    plt.ylabel('Duration (minutes)')\n",
    "    plt.title('Anomaly Duration Boxplot')\n",
    "    plt.grid(alpha=0.3)\n",
    "    \n",
    "    plt.tight_layout()\n",
    "    plt.show()\n",
    "else:\n",
    "    print(\"No anomalies found in dataset.\")\n"
   ]
  },
  {
   "cell_type": "markdown",
   "id": "e25e0cc7",
   "metadata": {},
   "source": [
    "### Visualizações em Janela (Zoom)\n",
    "\n",
    "Criamos uma função simples para visualizar janelas de tempo específicas, facilitando a análise de anomalias em detalhe.\n"
   ]
  },
  {
   "cell_type": "code",
   "execution_count": 11,
   "id": "f60bb185",
   "metadata": {},
   "outputs": [
    {
     "name": "stdout",
     "output_type": "stream",
     "text": [
      "✅ Função plot_simple_zoom() criada com sucesso!\n"
     ]
    }
   ],
   "source": [
    "def plot_simple_zoom(df_ts, start_time, end_time, sensors=['Tp'], \n",
    "                     figsize=(14, 4), save_path=None):\n",
    "    \"\"\"\n",
    "    Função SIMPLES para visualizar uma janela de tempo específica.\n",
    "    \n",
    "    Parâmetros:\n",
    "    -----------\n",
    "    df_ts : DataFrame\n",
    "        DataFrame com índice temporal e coluna 'EVENT' (boolean)\n",
    "    start_time : str ou datetime\n",
    "        Início da janela (ex: '2016-08-14 17:00:00')\n",
    "    end_time : str ou datetime\n",
    "        Fim da janela (ex: '2016-08-14 20:00:00')\n",
    "    sensors : list\n",
    "        Lista de sensores para plotar (ex: ['Tp', 'pH', 'Cl'])\n",
    "    figsize : tuple\n",
    "        Tamanho da figura (largura, altura)\n",
    "    save_path : str ou None\n",
    "        Se fornecido, salva a figura neste caminho\n",
    "    \"\"\"\n",
    "    \n",
    "    # ===== 1. FILTRAR OS DADOS PARA A JANELA DE TEMPO =====\n",
    "    # Converter strings para datetime se necessário\n",
    "    if isinstance(start_time, str):\n",
    "        start_time = pd.to_datetime(start_time)\n",
    "    if isinstance(end_time, str):\n",
    "        end_time = pd.to_datetime(end_time)\n",
    "    \n",
    "    # Criar máscara booleana: True para linhas dentro da janela\n",
    "    mask = (df_ts.index >= start_time) & (df_ts.index <= end_time)\n",
    "    \n",
    "    # Aplicar máscara para extrair apenas os dados da janela\n",
    "    df_window = df_ts.loc[mask]\n",
    "    \n",
    "    # Verificar se há dados na janela\n",
    "    if len(df_window) == 0:\n",
    "        print(f\"⚠️ Nenhum dado encontrado entre {start_time} e {end_time}\")\n",
    "        return\n",
    "    \n",
    "    # ===== 2. CRIAR A FIGURA E SUBPLOTS =====\n",
    "    # Número de sensores = número de subplots (um por linha)\n",
    "    n_sensors = len(sensors)\n",
    "    \n",
    "    # Criar figura com subplots empilhados verticalmente\n",
    "    fig, axes = plt.subplots(n_sensors, 1, figsize=figsize, sharex=True)\n",
    "    \n",
    "    # Se só houver 1 sensor, axes não é uma lista, então transformamos em lista\n",
    "    if n_sensors == 1:\n",
    "        axes = [axes]\n",
    "    \n",
    "    # ===== 3. PLOTAR CADA SENSOR =====\n",
    "    for i, sensor in enumerate(sensors):\n",
    "        ax = axes[i]  # Pegar o subplot atual\n",
    "        \n",
    "        # Plotar linha do sensor (azul)\n",
    "        ax.plot(df_window.index, df_window[sensor], \n",
    "                color='steelblue', linewidth=1.5, label='Leitura')\n",
    "        \n",
    "        # ===== 4. DESTACAR ANOMALIAS =====\n",
    "        # Criar máscara para pontos anômalos (onde EVENT é True)\n",
    "        anomaly_mask = df_window['EVENT']\n",
    "        \n",
    "        # Se houver anomalias na janela, destacá-las\n",
    "        if anomaly_mask.any():\n",
    "            # Plotar pontos vermelhos sobre as anomalias\n",
    "            ax.scatter(df_window.index[anomaly_mask], \n",
    "                      df_window.loc[anomaly_mask, sensor],\n",
    "                      color='crimson', s=30, marker='o', \n",
    "                      alpha=0.8, label='Anomalia', zorder=5)\n",
    "            \n",
    "            # Sombrear regiões anômalas com fundo vermelho transparente\n",
    "            # Pegamos os limites do eixo Y para sombrear toda a altura\n",
    "            ymin, ymax = ax.get_ylim()\n",
    "            \n",
    "            # Para cada ponto anômalo, criar uma faixa vertical\n",
    "            anomaly_times = df_window.index[anomaly_mask]\n",
    "            for anom_time in anomaly_times:\n",
    "                # axvspan cria uma faixa vertical transparente\n",
    "                ax.axvspan(anom_time, anom_time + pd.Timedelta(minutes=1), \n",
    "                          color='crimson', alpha=0.15, zorder=1)\n",
    "        \n",
    "        # ===== 5. CONFIGURAR LABELS E ESTILO =====\n",
    "        # Título do subplot com nome do sensor\n",
    "        ax.set_ylabel(sensor, fontsize=12, fontweight='bold')\n",
    "        \n",
    "        # Grid para facilitar leitura\n",
    "        ax.grid(alpha=0.3, linestyle='--', linewidth=0.5)\n",
    "        \n",
    "        # Legenda\n",
    "        ax.legend(loc='upper right', fontsize=9)\n",
    "    \n",
    "    # ===== 6. TÍTULO GERAL E LABEL DO EIXO X =====\n",
    "    # Título no topo da figura\n",
    "    axes[0].set_title(f'Janela: {start_time.strftime(\"%Y-%m-%d %H:%M\")} até '\n",
    "                     f'{end_time.strftime(\"%Y-%m-%d %H:%M\")}', \n",
    "                     fontsize=13, fontweight='bold', pad=10)\n",
    "    \n",
    "    # Label do eixo X apenas no último subplot\n",
    "    axes[-1].set_xlabel('Tempo', fontsize=11)\n",
    "    \n",
    "    # Rotacionar labels do eixo X para não sobrepor\n",
    "    plt.setp(axes[-1].xaxis.get_majorticklabels(), rotation=30, ha='right')\n",
    "    \n",
    "    # ===== 7. AJUSTAR LAYOUT E SALVAR/MOSTRAR =====\n",
    "    plt.tight_layout()\n",
    "    \n",
    "    # Salvar figura se caminho foi fornecido\n",
    "    if save_path:\n",
    "        fig.savefig(save_path, dpi=150, bbox_inches='tight')\n",
    "        print(f\"✅ Figura salva: {save_path}\")\n",
    "    \n",
    "    # Mostrar figura\n",
    "    plt.show()\n",
    "\n",
    "print(\"✅ Função plot_simple_zoom() criada com sucesso!\")\n"
   ]
  },
  {
   "cell_type": "code",
   "execution_count": null,
   "id": "9fe4278f",
   "metadata": {},
   "outputs": [],
   "source": [
    "plot_simple_zoom()"
   ]
  },
  {
   "cell_type": "markdown",
   "id": "f1529166",
   "metadata": {},
   "source": []
  }
 ],
 "metadata": {
  "kernelspec": {
   "display_name": "tastefinder",
   "language": "python",
   "name": "python3"
  },
  "language_info": {
   "codemirror_mode": {
    "name": "ipython",
    "version": 3
   },
   "file_extension": ".py",
   "mimetype": "text/x-python",
   "name": "python",
   "nbconvert_exporter": "python",
   "pygments_lexer": "ipython3",
   "version": "3.10.18"
  }
 },
 "nbformat": 4,
 "nbformat_minor": 5
}
